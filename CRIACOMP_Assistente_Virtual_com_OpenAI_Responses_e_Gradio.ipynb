{
  "cells": [
    {
      "cell_type": "markdown",
      "metadata": {
        "id": "view-in-github",
        "colab_type": "text"
      },
      "source": [
        "<a href=\"https://colab.research.google.com/github/vitoriabtriz/chatbot_coord_ensino_ufpe/blob/main/CRIACOMP_Assistente_Virtual_com_OpenAI_Responses_e_Gradio.ipynb\" target=\"_parent\"><img src=\"https://colab.research.google.com/assets/colab-badge.svg\" alt=\"Open In Colab\"/></a>"
      ]
    },
    {
      "cell_type": "code",
      "execution_count": 52,
      "metadata": {
        "id": "3mWmijGJQBtk"
      },
      "outputs": [],
      "source": [
        "!pip install -q openai gradio tdqm"
      ]
    },
    {
      "cell_type": "code",
      "execution_count": 53,
      "metadata": {
        "id": "LZasoi75QWUl"
      },
      "outputs": [],
      "source": [
        "from google.colab import userdata\n",
        "from openai import OpenAI\n",
        "from tqdm import tqdm\n",
        "import gradio as gr\n",
        "import concurrent\n",
        "import os"
      ]
    },
    {
      "cell_type": "code",
      "source": [
        "#cria a pasta onde o pdf vai ser armazenado\n",
        "!mkdir -p /content/input_pdfs\n"
      ],
      "metadata": {
        "id": "9eosEdzVgsLY"
      },
      "execution_count": 54,
      "outputs": []
    },
    {
      "cell_type": "code",
      "source": [
        "from google.colab import files\n",
        "uploaded = files.upload()\n",
        "\n",
        "#move o pdf enviado para a pasta correta\n",
        "import shutil\n",
        "for filename in uploaded.keys():\n",
        "    shutil.move(filename, f\"/content/input_pdfs/{filename}\")\n"
      ],
      "metadata": {
        "id": "-fnVqcZ9g6FB",
        "outputId": "9b5f3e16-c291-494c-a7c8-ab1eae2462e7",
        "colab": {
          "base_uri": "https://localhost:8080/",
          "height": 73
        }
      },
      "execution_count": 55,
      "outputs": [
        {
          "output_type": "display_data",
          "data": {
            "text/plain": [
              "<IPython.core.display.HTML object>"
            ],
            "text/html": [
              "\n",
              "     <input type=\"file\" id=\"files-bd688bd1-9462-4ef3-9b50-94355c1b1ea2\" name=\"files[]\" multiple disabled\n",
              "        style=\"border:none\" />\n",
              "     <output id=\"result-bd688bd1-9462-4ef3-9b50-94355c1b1ea2\">\n",
              "      Upload widget is only available when the cell has been executed in the\n",
              "      current browser session. Please rerun this cell to enable.\n",
              "      </output>\n",
              "      <script>// Copyright 2017 Google LLC\n",
              "//\n",
              "// Licensed under the Apache License, Version 2.0 (the \"License\");\n",
              "// you may not use this file except in compliance with the License.\n",
              "// You may obtain a copy of the License at\n",
              "//\n",
              "//      http://www.apache.org/licenses/LICENSE-2.0\n",
              "//\n",
              "// Unless required by applicable law or agreed to in writing, software\n",
              "// distributed under the License is distributed on an \"AS IS\" BASIS,\n",
              "// WITHOUT WARRANTIES OR CONDITIONS OF ANY KIND, either express or implied.\n",
              "// See the License for the specific language governing permissions and\n",
              "// limitations under the License.\n",
              "\n",
              "/**\n",
              " * @fileoverview Helpers for google.colab Python module.\n",
              " */\n",
              "(function(scope) {\n",
              "function span(text, styleAttributes = {}) {\n",
              "  const element = document.createElement('span');\n",
              "  element.textContent = text;\n",
              "  for (const key of Object.keys(styleAttributes)) {\n",
              "    element.style[key] = styleAttributes[key];\n",
              "  }\n",
              "  return element;\n",
              "}\n",
              "\n",
              "// Max number of bytes which will be uploaded at a time.\n",
              "const MAX_PAYLOAD_SIZE = 100 * 1024;\n",
              "\n",
              "function _uploadFiles(inputId, outputId) {\n",
              "  const steps = uploadFilesStep(inputId, outputId);\n",
              "  const outputElement = document.getElementById(outputId);\n",
              "  // Cache steps on the outputElement to make it available for the next call\n",
              "  // to uploadFilesContinue from Python.\n",
              "  outputElement.steps = steps;\n",
              "\n",
              "  return _uploadFilesContinue(outputId);\n",
              "}\n",
              "\n",
              "// This is roughly an async generator (not supported in the browser yet),\n",
              "// where there are multiple asynchronous steps and the Python side is going\n",
              "// to poll for completion of each step.\n",
              "// This uses a Promise to block the python side on completion of each step,\n",
              "// then passes the result of the previous step as the input to the next step.\n",
              "function _uploadFilesContinue(outputId) {\n",
              "  const outputElement = document.getElementById(outputId);\n",
              "  const steps = outputElement.steps;\n",
              "\n",
              "  const next = steps.next(outputElement.lastPromiseValue);\n",
              "  return Promise.resolve(next.value.promise).then((value) => {\n",
              "    // Cache the last promise value to make it available to the next\n",
              "    // step of the generator.\n",
              "    outputElement.lastPromiseValue = value;\n",
              "    return next.value.response;\n",
              "  });\n",
              "}\n",
              "\n",
              "/**\n",
              " * Generator function which is called between each async step of the upload\n",
              " * process.\n",
              " * @param {string} inputId Element ID of the input file picker element.\n",
              " * @param {string} outputId Element ID of the output display.\n",
              " * @return {!Iterable<!Object>} Iterable of next steps.\n",
              " */\n",
              "function* uploadFilesStep(inputId, outputId) {\n",
              "  const inputElement = document.getElementById(inputId);\n",
              "  inputElement.disabled = false;\n",
              "\n",
              "  const outputElement = document.getElementById(outputId);\n",
              "  outputElement.innerHTML = '';\n",
              "\n",
              "  const pickedPromise = new Promise((resolve) => {\n",
              "    inputElement.addEventListener('change', (e) => {\n",
              "      resolve(e.target.files);\n",
              "    });\n",
              "  });\n",
              "\n",
              "  const cancel = document.createElement('button');\n",
              "  inputElement.parentElement.appendChild(cancel);\n",
              "  cancel.textContent = 'Cancel upload';\n",
              "  const cancelPromise = new Promise((resolve) => {\n",
              "    cancel.onclick = () => {\n",
              "      resolve(null);\n",
              "    };\n",
              "  });\n",
              "\n",
              "  // Wait for the user to pick the files.\n",
              "  const files = yield {\n",
              "    promise: Promise.race([pickedPromise, cancelPromise]),\n",
              "    response: {\n",
              "      action: 'starting',\n",
              "    }\n",
              "  };\n",
              "\n",
              "  cancel.remove();\n",
              "\n",
              "  // Disable the input element since further picks are not allowed.\n",
              "  inputElement.disabled = true;\n",
              "\n",
              "  if (!files) {\n",
              "    return {\n",
              "      response: {\n",
              "        action: 'complete',\n",
              "      }\n",
              "    };\n",
              "  }\n",
              "\n",
              "  for (const file of files) {\n",
              "    const li = document.createElement('li');\n",
              "    li.append(span(file.name, {fontWeight: 'bold'}));\n",
              "    li.append(span(\n",
              "        `(${file.type || 'n/a'}) - ${file.size} bytes, ` +\n",
              "        `last modified: ${\n",
              "            file.lastModifiedDate ? file.lastModifiedDate.toLocaleDateString() :\n",
              "                                    'n/a'} - `));\n",
              "    const percent = span('0% done');\n",
              "    li.appendChild(percent);\n",
              "\n",
              "    outputElement.appendChild(li);\n",
              "\n",
              "    const fileDataPromise = new Promise((resolve) => {\n",
              "      const reader = new FileReader();\n",
              "      reader.onload = (e) => {\n",
              "        resolve(e.target.result);\n",
              "      };\n",
              "      reader.readAsArrayBuffer(file);\n",
              "    });\n",
              "    // Wait for the data to be ready.\n",
              "    let fileData = yield {\n",
              "      promise: fileDataPromise,\n",
              "      response: {\n",
              "        action: 'continue',\n",
              "      }\n",
              "    };\n",
              "\n",
              "    // Use a chunked sending to avoid message size limits. See b/62115660.\n",
              "    let position = 0;\n",
              "    do {\n",
              "      const length = Math.min(fileData.byteLength - position, MAX_PAYLOAD_SIZE);\n",
              "      const chunk = new Uint8Array(fileData, position, length);\n",
              "      position += length;\n",
              "\n",
              "      const base64 = btoa(String.fromCharCode.apply(null, chunk));\n",
              "      yield {\n",
              "        response: {\n",
              "          action: 'append',\n",
              "          file: file.name,\n",
              "          data: base64,\n",
              "        },\n",
              "      };\n",
              "\n",
              "      let percentDone = fileData.byteLength === 0 ?\n",
              "          100 :\n",
              "          Math.round((position / fileData.byteLength) * 100);\n",
              "      percent.textContent = `${percentDone}% done`;\n",
              "\n",
              "    } while (position < fileData.byteLength);\n",
              "  }\n",
              "\n",
              "  // All done.\n",
              "  yield {\n",
              "    response: {\n",
              "      action: 'complete',\n",
              "    }\n",
              "  };\n",
              "}\n",
              "\n",
              "scope.google = scope.google || {};\n",
              "scope.google.colab = scope.google.colab || {};\n",
              "scope.google.colab._files = {\n",
              "  _uploadFiles,\n",
              "  _uploadFilesContinue,\n",
              "};\n",
              "})(self);\n",
              "</script> "
            ]
          },
          "metadata": {}
        },
        {
          "output_type": "stream",
          "name": "stdout",
          "text": [
            "Saving ilovepdf_merged.pdf to ilovepdf_merged.pdf\n"
          ]
        }
      ]
    },
    {
      "cell_type": "code",
      "execution_count": 56,
      "metadata": {
        "id": "5uJCdT_wQgzM"
      },
      "outputs": [],
      "source": [
        "client = OpenAI(api_key=userdata.get('OPENAI_API_KEY'))\n",
        "dir_pdfs = '/content/input_pdfs'\n",
        "pdf_files = [os.path.join(dir_pdfs, f) for f in os.listdir(dir_pdfs)]"
      ]
    },
    {
      "cell_type": "code",
      "execution_count": 58,
      "metadata": {
        "id": "MB_HUg0dQmq4"
      },
      "outputs": [],
      "source": [
        "def upload_single_pdf(file_path: str, vector_store_id: str):\n",
        "    file_name = os.path.basename(file_path)\n",
        "    try:\n",
        "        file_response = client.files.create(file=open(file_path, 'rb'), purpose=\"assistants\")\n",
        "        attach_response = client.vector_stores.files.create(\n",
        "            vector_store_id=vector_store_id,\n",
        "            file_id=file_response.id\n",
        "        )\n",
        "        return {\"file\": file_name, \"status\": \"success\"}\n",
        "    except Exception as e:\n",
        "        print(f\"Error with {file_name}: {str(e)}\")\n",
        "        return {\"file\": file_name, \"status\": \"failed\", \"error\": str(e)}\n",
        "\n",
        "def upload_pdf_files_to_vector_store(vector_store_id: str, pdf_files: list):\n",
        "    stats = {\"total_files\": len(pdf_files), \"successful_uploads\": 0, \"failed_uploads\": 0, \"errors\": []}\n",
        "\n",
        "    print(f\"{len(pdf_files)} PDF files to process. Uploading in parallel...\")\n",
        "\n",
        "    with concurrent.futures.ThreadPoolExecutor(max_workers=10) as executor:\n",
        "        futures = {executor.submit(upload_single_pdf, file_path, vector_store_id): file_path for file_path in pdf_files}\n",
        "        for future in tqdm(concurrent.futures.as_completed(futures), total=len(pdf_files)):\n",
        "            result = future.result()\n",
        "            if result[\"status\"] == \"success\":\n",
        "                stats[\"successful_uploads\"] += 1\n",
        "            else:\n",
        "                stats[\"failed_uploads\"] += 1\n",
        "                stats[\"errors\"].append(result)\n",
        "\n",
        "    return stats\n",
        "\n",
        "def create_vector_store(store_name: str) -> dict:\n",
        "    try:\n",
        "        vector_store = client.vector_stores.create(name=store_name)\n",
        "        details = {\n",
        "            \"id\": vector_store.id,\n",
        "            \"name\": vector_store.name,\n",
        "            \"created_at\": vector_store.created_at,\n",
        "            \"file_count\": vector_store.file_counts.completed\n",
        "        }\n",
        "        print(\"Vector store created:\", details)\n",
        "        return details\n",
        "    except Exception as e:\n",
        "        print(f\"Error creating vector store: {e}\")\n",
        "        return {}"
      ]
    },
    {
      "cell_type": "code",
      "execution_count": 59,
      "metadata": {
        "id": "MRxUmNrFRnla",
        "outputId": "3e6e137a-0579-417f-8a0e-8c003e7b08cf",
        "colab": {
          "base_uri": "https://localhost:8080/"
        }
      },
      "outputs": [
        {
          "output_type": "stream",
          "name": "stdout",
          "text": [
            "Vector store created: {'id': 'vs_67fee2739db88191a9e11a29881cc2a7', 'name': 'coordenacao_ensino', 'created_at': 1744757363, 'file_count': 0}\n",
            "2 PDF files to process. Uploading in parallel...\n",
            "Error with .ipynb_checkpoints: [Errno 21] Is a directory: '/content/input_pdfs/.ipynb_checkpoints'\n"
          ]
        },
        {
          "output_type": "stream",
          "name": "stderr",
          "text": [
            "100%|██████████| 2/2 [00:01<00:00,  1.56it/s]\n"
          ]
        },
        {
          "output_type": "execute_result",
          "data": {
            "text/plain": [
              "{'total_files': 2,\n",
              " 'successful_uploads': 1,\n",
              " 'failed_uploads': 1,\n",
              " 'errors': [{'file': '.ipynb_checkpoints',\n",
              "   'status': 'failed',\n",
              "   'error': \"[Errno 21] Is a directory: '/content/input_pdfs/.ipynb_checkpoints'\"}]}"
            ]
          },
          "metadata": {},
          "execution_count": 59
        }
      ],
      "source": [
        "store_name = \"coordenacao_ensino\"\n",
        "vector_store_details = create_vector_store(store_name)\n",
        "upload_pdf_files_to_vector_store(vector_store_details[\"id\"], pdf_files)"
      ]
    },
    {
      "cell_type": "code",
      "execution_count": 60,
      "metadata": {
        "id": "LJpZuiGRQuWn"
      },
      "outputs": [],
      "source": [
        "import concurrent.futures\n",
        "\n",
        "def response_output(query, history):\n",
        "    def make_request():\n",
        "        return client.responses.create(\n",
        "            model=\"gpt-4o-mini\",\n",
        "            input=[\n",
        "                {\n",
        "                    \"role\": \"system\",\n",
        "                    \"content\": \"Você é um assistente virtual que responde apenas com base nos documentos fornecidos sobre a coordenação do CIn/UFPE. Caso a pergunta não tenha relação com os dados, responda: 'Desculpe, não sei informar sobre isso.'\"\n",
        "                },\n",
        "                {\"role\": \"user\", \"content\": query}\n",
        "            ],\n",
        "            tools=[\n",
        "                {\n",
        "                    \"type\": \"file_search\",\n",
        "                    \"vector_store_ids\": [vector_store_details['id']],\n",
        "                }\n",
        "            ]\n",
        "        )\n",
        "\n",
        "    try:\n",
        "        #executa com timeout de 30 segundos\n",
        "        with concurrent.futures.ThreadPoolExecutor() as executor:\n",
        "            future = executor.submit(make_request)\n",
        "            response = future.result(timeout=30)\n",
        "\n",
        "        #verifica se veio resposta relevante de um arquivo\n",
        "        if (\n",
        "            hasattr(response, \"output\")\n",
        "            and len(response.output) > 1\n",
        "            and hasattr(response.output[1], \"content\")\n",
        "            and response.output[1].content\n",
        "            and response.output[1].content[0].text.strip() != \"\"\n",
        "        ):\n",
        "            return response.output[1].content[0].text.strip()\n",
        "        else:\n",
        "            return \"Desculpe, não sei informar sobre isso.\"\n",
        "\n",
        "    except concurrent.futures.TimeoutError:\n",
        "        return \"Desculpe, não sei informar sobre isso.\"\n",
        "    except Exception as e:\n",
        "        #você pode logar o erro se quiser: print(str(e))\n",
        "        return \"Desculpe, não sei informar sobre isso.\"\n"
      ]
    },
    {
      "cell_type": "code",
      "execution_count": 61,
      "metadata": {
        "id": "sdLnSKI1QzFw",
        "outputId": "14b69919-df5d-4508-b841-c21c38b70267",
        "colab": {
          "base_uri": "https://localhost:8080/",
          "height": 680
        }
      },
      "outputs": [
        {
          "output_type": "stream",
          "name": "stdout",
          "text": [
            "It looks like you are running Gradio on a hosted a Jupyter notebook. For the Gradio app to work, sharing must be enabled. Automatically setting `share=True` (you can turn this off by setting `share=False` in `launch()` explicitly).\n",
            "\n",
            "Colab notebook detected. This cell will run indefinitely so that you can see errors and logs. To turn off, set debug=False in launch().\n",
            "* Running on public URL: https://e91113b9696c7d36e2.gradio.live\n",
            "\n",
            "This share link expires in 1 week. For free permanent hosting and GPU upgrades, run `gradio deploy` from the terminal in the working directory to deploy to Hugging Face Spaces (https://huggingface.co/spaces)\n"
          ]
        },
        {
          "output_type": "display_data",
          "data": {
            "text/plain": [
              "<IPython.core.display.HTML object>"
            ],
            "text/html": [
              "<div><iframe src=\"https://e91113b9696c7d36e2.gradio.live\" width=\"100%\" height=\"500\" allow=\"autoplay; camera; microphone; clipboard-read; clipboard-write;\" frameborder=\"0\" allowfullscreen></iframe></div>"
            ]
          },
          "metadata": {}
        },
        {
          "output_type": "stream",
          "name": "stdout",
          "text": [
            "Keyboard interruption in main thread... closing server.\n",
            "Killing tunnel 127.0.0.1:7861 <> https://e91113b9696c7d36e2.gradio.live\n"
          ]
        },
        {
          "output_type": "execute_result",
          "data": {
            "text/plain": []
          },
          "metadata": {},
          "execution_count": 61
        }
      ],
      "source": [
        "demo = gr.ChatInterface(\n",
        "    response_output,\n",
        "    type=\"messages\"\n",
        ")\n",
        "\n",
        "demo.launch(debug=True)"
      ]
    }
  ],
  "metadata": {
    "colab": {
      "provenance": [],
      "include_colab_link": true
    },
    "kernelspec": {
      "display_name": "Python 3",
      "name": "python3"
    },
    "language_info": {
      "name": "python"
    }
  },
  "nbformat": 4,
  "nbformat_minor": 0
}