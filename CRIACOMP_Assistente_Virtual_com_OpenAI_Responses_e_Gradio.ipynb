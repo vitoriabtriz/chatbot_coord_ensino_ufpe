{
  "cells": [
    {
      "cell_type": "markdown",
      "metadata": {
        "id": "view-in-github",
        "colab_type": "text"
      },
      "source": [
        "<a href=\"https://colab.research.google.com/github/vitoriabtriz/chatbot_coord_ensino_ufpe/blob/main/CRIACOMP_Assistente_Virtual_com_OpenAI_Responses_e_Gradio.ipynb\" target=\"_parent\"><img src=\"https://colab.research.google.com/assets/colab-badge.svg\" alt=\"Open In Colab\"/></a>"
      ]
    },
    {
      "cell_type": "code",
      "execution_count": null,
      "metadata": {
        "id": "3mWmijGJQBtk"
      },
      "outputs": [],
      "source": [
        "!pip install -q openai gradio tdqm"
      ]
    },
    {
      "cell_type": "code",
      "execution_count": null,
      "metadata": {
        "id": "LZasoi75QWUl"
      },
      "outputs": [],
      "source": [
        "from google.colab import userdata\n",
        "from openai import OpenAI\n",
        "from tqdm import tqdm\n",
        "import gradio as gr\n",
        "import concurrent\n",
        "import os"
      ]
    },
    {
      "cell_type": "code",
      "source": [
        "#cria a pasta onde o pdf vai ser armazenado\n",
        "!mkdir -p /content/input_pdfs\n"
      ],
      "metadata": {
        "id": "9eosEdzVgsLY"
      },
      "execution_count": null,
      "outputs": []
    },
    {
      "cell_type": "code",
      "source": [
        "from google.colab import files\n",
        "uploaded = files.upload()\n",
        "\n",
        "#move o pdf enviado para a pasta correta\n",
        "import shutil\n",
        "for filename in uploaded.keys():\n",
        "    shutil.move(filename, f\"/content/input_pdfs/{filename}\")\n"
      ],
      "metadata": {
        "id": "-fnVqcZ9g6FB"
      },
      "execution_count": null,
      "outputs": []
    },
    {
      "cell_type": "code",
      "execution_count": null,
      "metadata": {
        "id": "5uJCdT_wQgzM"
      },
      "outputs": [],
      "source": [
        "client = OpenAI(api_key=userdata.get('OPENAI_API_KEY'))\n",
        "dir_pdfs = '/content/input_pdfs'\n",
        "pdf_files = [os.path.join(dir_pdfs, f) for f in os.listdir(dir_pdfs)]"
      ]
    },
    {
      "cell_type": "code",
      "execution_count": null,
      "metadata": {
        "id": "MB_HUg0dQmq4"
      },
      "outputs": [],
      "source": [
        "def upload_single_pdf(file_path: str, vector_store_id: str):\n",
        "    file_name = os.path.basename(file_path)\n",
        "    try:\n",
        "        file_response = client.files.create(file=open(file_path, 'rb'), purpose=\"assistants\")\n",
        "        attach_response = client.vector_stores.files.create(\n",
        "            vector_store_id=vector_store_id,\n",
        "            file_id=file_response.id\n",
        "        )\n",
        "        return {\"file\": file_name, \"status\": \"success\"}\n",
        "    except Exception as e:\n",
        "        print(f\"Error with {file_name}: {str(e)}\")\n",
        "        return {\"file\": file_name, \"status\": \"failed\", \"error\": str(e)}\n",
        "\n",
        "def upload_pdf_files_to_vector_store(vector_store_id: str, pdf_files: list):\n",
        "    stats = {\"total_files\": len(pdf_files), \"successful_uploads\": 0, \"failed_uploads\": 0, \"errors\": []}\n",
        "\n",
        "    print(f\"{len(pdf_files)} PDF files to process. Uploading in parallel...\")\n",
        "\n",
        "    with concurrent.futures.ThreadPoolExecutor(max_workers=10) as executor:\n",
        "        futures = {executor.submit(upload_single_pdf, file_path, vector_store_id): file_path for file_path in pdf_files}\n",
        "        for future in tqdm(concurrent.futures.as_completed(futures), total=len(pdf_files)):\n",
        "            result = future.result()\n",
        "            if result[\"status\"] == \"success\":\n",
        "                stats[\"successful_uploads\"] += 1\n",
        "            else:\n",
        "                stats[\"failed_uploads\"] += 1\n",
        "                stats[\"errors\"].append(result)\n",
        "\n",
        "    return stats\n",
        "\n",
        "def create_vector_store(store_name: str) -> dict:\n",
        "    try:\n",
        "        vector_store = client.vector_stores.create(name=store_name)\n",
        "        details = {\n",
        "            \"id\": vector_store.id,\n",
        "            \"name\": vector_store.name,\n",
        "            \"created_at\": vector_store.created_at,\n",
        "            \"file_count\": vector_store.file_counts.completed\n",
        "        }\n",
        "        print(\"Vector store created:\", details)\n",
        "        return details\n",
        "    except Exception as e:\n",
        "        print(f\"Error creating vector store: {e}\")\n",
        "        return {}"
      ]
    },
    {
      "cell_type": "code",
      "execution_count": null,
      "metadata": {
        "id": "MRxUmNrFRnla"
      },
      "outputs": [],
      "source": [
        "store_name = \"coordenacao_ensino\"\n",
        "vector_store_details = create_vector_store(store_name)\n",
        "upload_pdf_files_to_vector_store(vector_store_details[\"id\"], pdf_files)"
      ]
    },
    {
      "cell_type": "code",
      "execution_count": null,
      "metadata": {
        "id": "LJpZuiGRQuWn"
      },
      "outputs": [],
      "source": [
        "import concurrent.futures\n",
        "\n",
        "def response_output(query, history):\n",
        "    def make_request():\n",
        "        return client.responses.create(\n",
        "            model=\"gpt-4o-mini\",\n",
        "            input=[\n",
        "                {\n",
        "                    \"role\": \"system\",\n",
        "                    \"content\": \"Você é um assistente virtual que responde apenas com base nos documentos fornecidos sobre a coordenação do CIn/UFPE. Caso a pergunta não tenha relação com os dados, responda: 'Desculpe, não sei informar sobre isso.'\"\n",
        "                },\n",
        "                {\"role\": \"user\", \"content\": query}\n",
        "            ],\n",
        "            tools=[\n",
        "                {\n",
        "                    \"type\": \"file_search\",\n",
        "                    \"vector_store_ids\": [vector_store_details['id']],\n",
        "                }\n",
        "            ]\n",
        "        )\n",
        "\n",
        "    try:\n",
        "        #executa com timeout de 30 segundos\n",
        "        with concurrent.futures.ThreadPoolExecutor() as executor:\n",
        "            future = executor.submit(make_request)\n",
        "            response = future.result(timeout=30)\n",
        "\n",
        "        #verifica se veio resposta relevante de um arquivo\n",
        "        if (\n",
        "            hasattr(response, \"output\")\n",
        "            and len(response.output) > 1\n",
        "            and hasattr(response.output[1], \"content\")\n",
        "            and response.output[1].content\n",
        "            and response.output[1].content[0].text.strip() != \"\"\n",
        "        ):\n",
        "            return response.output[1].content[0].text.strip()\n",
        "        else:\n",
        "            return \"Desculpe, não sei informar sobre isso.\"\n",
        "\n",
        "    except concurrent.futures.TimeoutError:\n",
        "        return \"Desculpe, não sei informar sobre isso.\"\n",
        "    except Exception as e:\n",
        "        #você pode logar o erro se quiser: print(str(e))\n",
        "        return \"Desculpe, não sei informar sobre isso.\"\n"
      ]
    },
    {
      "cell_type": "code",
      "execution_count": null,
      "metadata": {
        "id": "sdLnSKI1QzFw"
      },
      "outputs": [],
      "source": [
        "demo = gr.ChatInterface(\n",
        "    response_output,\n",
        "    type=\"messages\"\n",
        ")\n",
        "\n",
        "demo.launch(debug=True)"
      ]
    }
  ],
  "metadata": {
    "colab": {
      "provenance": [],
      "include_colab_link": true
    },
    "kernelspec": {
      "display_name": "Python 3",
      "name": "python3"
    },
    "language_info": {
      "name": "python"
    }
  },
  "nbformat": 4,
  "nbformat_minor": 0
}